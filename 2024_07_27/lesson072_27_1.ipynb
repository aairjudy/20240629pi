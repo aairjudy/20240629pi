{
 "cells": [
  {
   "cell_type": "code",
   "execution_count": 2,
   "metadata": {},
   "outputs": [
    {
     "name": "stdout",
     "output_type": "stream",
     "text": [
      "234 ** 23 ** 23 ** 23.0 ** ehllo.\n"
     ]
    }
   ],
   "source": [
    "print('234','23',23,23.0,'ehllo',end='.\\n',sep=' ** ')"
   ]
  },
  {
   "cell_type": "code",
   "execution_count": 3,
   "metadata": {},
   "outputs": [
    {
     "name": "stdout",
     "output_type": "stream",
     "text": [
      "hello world in class\n"
     ]
    }
   ],
   "source": [
    "print ('hello world in class')"
   ]
  },
  {
   "cell_type": "code",
   "execution_count": 34,
   "metadata": {},
   "outputs": [
    {
     "name": "stdout",
     "output_type": "stream",
     "text": [
      "0 9 4 4 8 7 5 1 3 7 2 9 6 3 5 1 4 7 2 8 8 9 0 4 0 5 9 6 5 \n",
      "[7, 10, 7, 5, 3, 1, 4, 8, 3, 5, 3, 5, 3, 6, 7, 8, 3, 6, 4, 8, 3, 1, 8, 3, 5, 7, 7, 7, 8]\n",
      "  7  10  7  5  3  1  4  8  3  5  3  5  3  6  7  8  3  6  4  8  3  1  8  3  5  7  7  7  8\n",
      "幸運中選的號碼是 6\n",
      "[3, 5, 7, 5, 7, 7, 10, 1, 3, 1, 6, 5, 3, 6, 8, 3, 7, 8, 5, 7, 8, 4, 3, 3, 7, 3, 8, 4, 8]\n"
     ]
    }
   ],
   "source": [
    "import random\n",
    "v=''\n",
    "cho = []\n",
    "for i in range(1,30):\n",
    "    print (random.randrange(0,10) ,end = ' ')\n",
    "    o = random.randint(1,10)\n",
    "    v = v+ '  ' + str(o)\n",
    "    cho.append (o)\n",
    "print ()\n",
    "c = random.choice(cho)\n",
    "print (cho) \n",
    "print (v)\n",
    "print ('幸運中選的號碼是',c)\n",
    "random.shuffle(cho)\n",
    "print (cho)\n"
   ]
  },
  {
   "cell_type": "code",
   "execution_count": 32,
   "metadata": {},
   "outputs": [
    {
     "name": "stdout",
     "output_type": "stream",
     "text": [
      "0.2727272727272727\n",
      "41\n"
     ]
    }
   ],
   "source": [
    "print (3/11)\n",
    "#這是註解\n",
    "print (123//3)"
   ]
  },
  {
   "cell_type": "code",
   "execution_count": null,
   "metadata": {},
   "outputs": [],
   "source": [
    "import itertools\n"
   ]
  },
  {
   "cell_type": "code",
   "execution_count": 35,
   "metadata": {},
   "outputs": [
    {
     "data": {
      "text/plain": [
       "True"
      ]
     },
     "execution_count": 35,
     "metadata": {},
     "output_type": "execute_result"
    }
   ],
   "source": [
    "3 != 3\n",
    "4 < 5"
   ]
  },
  {
   "cell_type": "code",
   "execution_count": 49,
   "metadata": {},
   "outputs": [
    {
     "name": "stdout",
     "output_type": "stream",
     "text": [
      "['胡英英', 57, 66, 96, 30]\n",
      "96\n",
      "['胡英英', 57, 66, 30]\n",
      "['胡英英', 100, 57, 66, 30, 57]\n"
     ]
    },
    {
     "data": {
      "text/plain": [
       "['胡英英', 100, 66, 30, 57]"
      ]
     },
     "execution_count": 49,
     "metadata": {},
     "output_type": "execute_result"
    }
   ],
   "source": [
    "student = ['胡英英',57,66,96]\n",
    "student.append (30)\n",
    "print (student)\n",
    "v = student.pop(-2)\n",
    "print(v)\n",
    "print(student)\n",
    "student.insert(1,100)\n",
    "student.append(57)\n",
    "print(student)\n",
    "student.remove(57)\n",
    "student"
   ]
  },
  {
   "cell_type": "code",
   "execution_count": 54,
   "metadata": {},
   "outputs": [
    {
     "name": "stdout",
     "output_type": "stream",
     "text": [
      "{'name': 'peter', 'age': 13, 'addrees': 'Taipei'}\n",
      "peter\n",
      "dict_values(['peter', 13, 'Taipei'])\n",
      "dict_keys(['name', 'age', 'addrees'])\n",
      "dict_items([('name', 'peter'), ('age', 13), ('addrees', 'Taipei')])\n"
     ]
    }
   ],
   "source": [
    "std = {\"name\":\"peter\",\"age\":13,\"addrees\":\"Taipei\"}\n",
    "print (std)\n",
    "print (std[\"name\"])\n",
    "print (std.values())\n",
    "print(std.keys())\n",
    "print(std.items())"
   ]
  },
  {
   "cell_type": "code",
   "execution_count": 55,
   "metadata": {},
   "outputs": [
    {
     "name": "stdout",
     "output_type": "stream",
     "text": [
      "{'name': 'peter', 'age': 13, 'addrees': 'Taipei', 'sex': 'man'}\n"
     ]
    }
   ],
   "source": [
    "std[\"sex\"] =\"man\"\n",
    "print(std)"
   ]
  }
 ],
 "metadata": {
  "kernelspec": {
   "display_name": "myenv",
   "language": "python",
   "name": "python3"
  },
  "language_info": {
   "codemirror_mode": {
    "name": "ipython",
    "version": 3
   },
   "file_extension": ".py",
   "mimetype": "text/x-python",
   "name": "python",
   "nbconvert_exporter": "python",
   "pygments_lexer": "ipython3",
   "version": "3.10.14"
  }
 },
 "nbformat": 4,
 "nbformat_minor": 2
}
