{
 "cells": [
  {
   "cell_type": "code",
   "execution_count": 2,
   "metadata": {},
   "outputs": [
    {
     "name": "stdout",
     "output_type": "stream",
     "text": [
      "234 ** 23 ** 23 ** 23.0 ** ehllo.\n"
     ]
    }
   ],
   "source": [
    "print('234','23',23,23.0,'ehllo',end='.\\n',sep=' ** ')"
   ]
  },
  {
   "cell_type": "code",
   "execution_count": 3,
   "metadata": {},
   "outputs": [
    {
     "name": "stdout",
     "output_type": "stream",
     "text": [
      "hello world in class\n"
     ]
    }
   ],
   "source": [
    "print ('hello world in class')"
   ]
  },
  {
   "cell_type": "code",
   "execution_count": 14,
   "metadata": {},
   "outputs": [
    {
     "name": "stdout",
     "output_type": "stream",
     "text": [
      "7 3 4 4 8 0 4 8 7 8 2 6 1 7 8 9 2 1 8 7 4 9 0 1 2 7 6 9 7 \n",
      " 3 4 2 3 5 10 1 4 9 4 1 9 1 7 4 7 1 7 2 8 3 10 4 4 3 8 7 2 4\n"
     ]
    }
   ],
   "source": [
    "import random\n",
    "v=''\n",
    "for i in range(1,30):\n",
    "    print (random.randrange(0,10) ,end = ' ')\n",
    "    v = v+ ' ' + str(random.randint(1,10))\n",
    "print () \n",
    "print (v)"
   ]
  }
 ],
 "metadata": {
  "kernelspec": {
   "display_name": "myenv",
   "language": "python",
   "name": "python3"
  },
  "language_info": {
   "codemirror_mode": {
    "name": "ipython",
    "version": 3
   },
   "file_extension": ".py",
   "mimetype": "text/x-python",
   "name": "python",
   "nbconvert_exporter": "python",
   "pygments_lexer": "ipython3",
   "version": "3.10.14"
  }
 },
 "nbformat": 4,
 "nbformat_minor": 2
}
