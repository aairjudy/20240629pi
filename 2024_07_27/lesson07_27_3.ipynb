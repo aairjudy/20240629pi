{
 "cells": [
  {
   "cell_type": "code",
   "execution_count": 2,
   "metadata": {},
   "outputs": [],
   "source": [
    "import os.path"
   ]
  },
  {
   "cell_type": "code",
   "execution_count": 3,
   "metadata": {},
   "outputs": [
    {
     "name": "stdout",
     "output_type": "stream",
     "text": [
      "/home/pi/Documents/GitHub/20240629pi/2024_07_27/__main__\n"
     ]
    }
   ],
   "source": [
    "import os.path\n",
    "print (os.path.abspath(__name__))"
   ]
  },
  {
   "cell_type": "code",
   "execution_count": 4,
   "metadata": {},
   "outputs": [
    {
     "name": "stdout",
     "output_type": "stream",
     "text": [
      "/home/pi/Documents/GitHub/20240629pi/2024_07_27/__main__\n",
      "/home/pi/Documents/GitHub/20240629pi/2024_07_27\n",
      "False\n",
      "True\n"
     ]
    }
   ],
   "source": [
    "\n",
    "dirPath = os.path.abspath(__name__)\n",
    "print (dirPath)\n",
    "dictName = os.path.dirname(dirPath)\n",
    "print (dictName)\n",
    "extPath = os.path.join(dictName,\"extent\")\n",
    "print(os.path.isdir(extPath))\n",
    "\n",
    "import os\n",
    "os.makedirs(extPath)\n",
    "print(os.path.isdir(extPath))"
   ]
  },
  {
   "cell_type": "code",
   "execution_count": 5,
   "metadata": {},
   "outputs": [
    {
     "name": "stdout",
     "output_type": "stream",
     "text": [
      "/home/pi/Documents/GitHub/20240629pi/2024_07_27/extent\n",
      "/home/pi/Documents/GitHub/20240629pi/2024_07_27/extent/runing.log\n",
      "不是檔案\n",
      "True\n"
     ]
    }
   ],
   "source": [
    "print(extPath)\n",
    "filepath = os.path.join(extPath,\"runing.log\")\n",
    "print (filepath)\n",
    "if os.path.isfile(filepath):\n",
    "    print ('是檔案')\n",
    "else:\n",
    "    print('不是檔案') \n",
    "    with open(filepath,'w',encoding='utf-8',newline = '\\n') as file:\n",
    "        file.write('日期,溫度,濕度')\n",
    "   \n",
    "print ( os.path.isfile(filepath))\n"
   ]
  }
 ],
 "metadata": {
  "kernelspec": {
   "display_name": "myenv",
   "language": "python",
   "name": "python3"
  },
  "language_info": {
   "codemirror_mode": {
    "name": "ipython",
    "version": 3
   },
   "file_extension": ".py",
   "mimetype": "text/x-python",
   "name": "python",
   "nbconvert_exporter": "python",
   "pygments_lexer": "ipython3",
   "version": "3.10.14"
  }
 },
 "nbformat": 4,
 "nbformat_minor": 2
}
